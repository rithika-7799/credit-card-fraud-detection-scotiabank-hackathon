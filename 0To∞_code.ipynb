{
  "cells": [
    {
      "cell_type": "markdown",
      "metadata": {
        "id": "pWPOZAoAy8UP"
      },
      "source": [
        "# Imports & Configs"
      ],
      "id": "pWPOZAoAy8UP"
    },
    {
      "cell_type": "code",
      "execution_count": null,
      "metadata": {
        "id": "DiSprxlsLbrB"
      },
      "outputs": [],
      "source": [
        "import numpy as np \n",
        "import pandas as pd\n",
        "from functools import partial\n",
        "import math\n",
        "import csv\n",
        "\n",
        "import sklearn # sklearn\n",
        "from sklearn.metrics import precision_score, recall_score, f1_score, accuracy_score, roc_auc_score\n",
        "from sklearn.model_selection import train_test_split\n",
        "\n",
        "from imblearn.over_sampling import SMOTE # class imbalance\n",
        "\n",
        "from xgboost import XGBClassifier # xgboost\n",
        "\n",
        "import matplotlib.pyplot as plt # plotting\n",
        "import seaborn as sns\n",
        "\n"
      ],
      "id": "DiSprxlsLbrB"
    },
    {
      "cell_type": "code",
      "execution_count": null,
      "metadata": {
        "id": "kyH_uJBQ2okE"
      },
      "outputs": [],
      "source": [
        "pd.options.display.max_rows = 100\n",
        "np.set_printoptions(precision=3,threshold=np.inf)"
      ],
      "id": "kyH_uJBQ2okE"
    },
    {
      "cell_type": "markdown",
      "metadata": {
        "id": "eWfVsYDBpUgy"
      },
      "source": [
        "# Load the data"
      ],
      "id": "eWfVsYDBpUgy"
    },
    {
      "cell_type": "code",
      "execution_count": null,
      "metadata": {
        "id": "RsF-7DkVoimB"
      },
      "outputs": [],
      "source": [
        "def load(path):\n",
        "    df = pd.read_csv(path)\n",
        "\n",
        "    X = df.drop(['CITY',                # missing values\n",
        "                'USER_AGENT',          # missing values\n",
        "                'FRAUD_FLAG',          # target\n",
        "                'TRANSACTION_ID',      # uid\n",
        "                'EVENT_TIME',          # ignore these variables for now\n",
        "                'EVENT_MONTH',         #\n",
        "                'EVENT_DAY_OF_WEEK'],  #\n",
        "                axis=1)\n",
        "\n",
        "    y = df['FRAUD_FLAG']\n",
        "\n",
        "    return X, y, df\n",
        "\n",
        "X, y, _ = load('train_ScotiaDSD.csv')"
      ],
      "id": "RsF-7DkVoimB"
    },
    {
      "cell_type": "markdown",
      "metadata": {
        "id": "0xfDMu6tprmL"
      },
      "source": [
        "## Train/test Split"
      ],
      "id": "0xfDMu6tprmL"
    },
    {
      "cell_type": "code",
      "execution_count": null,
      "metadata": {
        "id": "SAwolGbvBhCY"
      },
      "outputs": [],
      "source": [
        "X_train, X_test, y_train, y_test = train_test_split(\n",
        "    X, y,\n",
        "    test_size=0.25,\n",
        "    random_state=0\n",
        ")\n",
        "\n",
        "X_train_np, X_test_np = X_train.to_numpy(), X_test.to_numpy()\n",
        "\n"
      ],
      "id": "SAwolGbvBhCY"
    },
    {
      "cell_type": "markdown",
      "metadata": {
        "id": "dgApx9HMOEQ9"
      },
      "source": [
        "# Training XGBoost"
      ],
      "id": "dgApx9HMOEQ9"
    },
    {
      "cell_type": "code",
      "execution_count": null,
      "metadata": {
        "id": "ukhK39p3oo1T"
      },
      "outputs": [],
      "source": [
        "def train_xgboost(train, learning_rate=0.1, max_depth=3, min_child_weight=1, gamma=0.0, pos_weight=1):\n",
        "    xgboost = XGBClassifier(\n",
        "        learning_rate = learning_rate,\n",
        "        max_depth = max_depth,\n",
        "        min_child_weight = min_child_weight,\n",
        "        gamma = gamma,\n",
        "        scale_pos_weight=pos_weight\n",
        "    )\n",
        "    X_train, y_train = train\n",
        "\n",
        "    xgboost.fit(X_train, y_train)\n",
        "\n",
        "    return xgboost"
      ],
      "id": "ukhK39p3oo1T"
    },
    {
      "cell_type": "code",
      "execution_count": null,
      "metadata": {
        "id": "W_kO2YKj5oEe"
      },
      "outputs": [],
      "source": [
        "# XGBoost Baseline\n",
        "\n",
        "model_base = train_xgboost(\n",
        "    (X_train_np, y_train), \n",
        "    0.1, 3, 1, 0.0)"
      ],
      "id": "W_kO2YKj5oEe"
    },
    {
      "cell_type": "code",
      "execution_count": null,
      "metadata": {
        "id": "gElPtRmGjFmd"
      },
      "outputs": [],
      "source": [
        "# SMOTE\n",
        "\n",
        "X_train_smote, y_train_smote = SMOTE(sampling_strategy=1/9).fit_resample(X_train_np, y_train)\n",
        "print(sum(y_train_smote)/len(y_train_smote))\n",
        "\n",
        "model_smote = train_xgboost(\n",
        "    (X_train_smote, y_train_smote), \n",
        "    0.1, 3, 1, 0.0)"
      ],
      "id": "gElPtRmGjFmd"
    },
    {
      "cell_type": "code",
      "execution_count": null,
      "metadata": {
        "id": "y8MVhgJ7GbMo"
      },
      "outputs": [],
      "source": [
        "# best hyperparams\n",
        "model = train_xgboost(\n",
        "    (X_train_np, y_train), \n",
        "    learning_rate=0.1,\n",
        "    max_depth=15,\n",
        "    min_child_weight=15,\n",
        "    gamma=1.0\n",
        ")"
      ],
      "id": "y8MVhgJ7GbMo"
    },
    {
      "cell_type": "markdown",
      "source": [
        "# Submission file"
      ],
      "metadata": {
        "id": "DR_F7dKYFe8E"
      },
      "id": "DR_F7dKYFe8E"
    },
    {
      "cell_type": "code",
      "source": [
        "# train on all the data\n",
        "X_all, _, y_all, _ = train_test_split(\n",
        "    X, y,\n",
        "    test_size=0.001,\n",
        "    random_state=0\n",
        ")\n",
        "X_all_np = X_all.to_numpy()\n",
        "\n",
        "model_all = train_xgboost(\n",
        "    (X_all_np, y_all), \n",
        "    learning_rate=0.1,\n",
        "    max_depth=15,\n",
        "    min_child_weight=15,\n",
        "    gamma=1.0\n",
        ")"
      ],
      "metadata": {
        "id": "RikqUgTtFivy"
      },
      "id": "RikqUgTtFivy",
      "execution_count": null,
      "outputs": []
    },
    {
      "cell_type": "code",
      "source": [
        "X_holdout, y_holdout, df_holdout = load('test_ScotiaDSD.csv')\n",
        "X_holdout_np = X_holdout.to_numpy()"
      ],
      "metadata": {
        "id": "PJM-IpydKIU6"
      },
      "id": "PJM-IpydKIU6",
      "execution_count": null,
      "outputs": []
    },
    {
      "cell_type": "code",
      "source": [
        "def generate_preds(model, X, df, t):\n",
        "\n",
        "    raw_probs = prob(model, X)\n",
        "    preds = raw_probs >= t\n",
        "    adjusted_probs = np.minimum(np.maximum(raw_probs + (0.5-t),np.zeros(len(X))), np.ones(len(X)))\n",
        "    ids = df['TRANSACTION_ID']\n",
        "    amounts = df['AMOUNT']\n",
        "\n",
        "    return ids, adjusted_probs, preds, amounts"
      ],
      "metadata": {
        "id": "BUqjcesyJMyf"
      },
      "id": "BUqjcesyJMyf",
      "execution_count": null,
      "outputs": []
    },
    {
      "cell_type": "code",
      "source": [
        "holdout_ids, adjusted_probs, preds, amounts = generate_preds(model_all, X_holdout_np, df_holdout, 0.21)"
      ],
      "metadata": {
        "id": "q8DK5teANuel"
      },
      "id": "q8DK5teANuel",
      "execution_count": null,
      "outputs": []
    },
    {
      "cell_type": "code",
      "source": [
        "def write_csv(ids, preds, probs):\n",
        "    with open('results.csv', 'w', newline='') as file:\n",
        "        writer = csv.writer(file)\n",
        "        writer.writerow([\"TRANSACTION_ID\", \"PREDICTION\", \"PROBABILITY\"])\n",
        "        for i in range(len(ids)):\n",
        "            writer.writerow([ids[i], 1.0 if preds[i] else 0.0, probs[i]])\n",
        "        \n",
        "\n",
        "write_csv(holdout_ids, preds, adjusted_probs)"
      ],
      "metadata": {
        "id": "pRZ_a1HSOO9Q"
      },
      "id": "pRZ_a1HSOO9Q",
      "execution_count": null,
      "outputs": []
    },
    {
      "cell_type": "markdown",
      "metadata": {
        "id": "VarLh5fzqs5U"
      },
      "source": [
        "# Evaluation"
      ],
      "id": "VarLh5fzqs5U"
    },
    {
      "cell_type": "code",
      "execution_count": null,
      "metadata": {
        "id": "KBIyf2i8x40k"
      },
      "outputs": [],
      "source": [
        "# utility functions\n",
        "\n",
        "def optimal(prob, label, f = f1_score):\n",
        "    max_val = 0\n",
        "    optimal_t = 0\n",
        "    lst = []\n",
        "    for t in range(100):\n",
        "        val = f(label, prob >= t/100)\n",
        "        lst.append(val)\n",
        "        if val > max_val:\n",
        "            max_val = val\n",
        "            optimal_t = t\n",
        "    \n",
        "    return max_val, optimal_t/100, lst\n",
        "\n",
        "def prob(model, X): \n",
        "    return model.predict_proba(X)[:,1]\n",
        "\n",
        "def metrics(y, preds):\n",
        "    print('F1:', f1_score(y, preds))\n",
        "    print('Precision:', precision_score(y, preds))\n",
        "    print('Recall:', recall_score(y, preds))\n",
        "    print('Conf Matrix:', sklearn.metrics.confusion_matrix(y, preds))\n",
        "\n",
        "def fp(y, preds):\n",
        "    return sum(np.logical_and(y == 0, preds == True))\n",
        "\n",
        "def fpr(y, preds):\n",
        "    return sum(np.logical_and(y == 0, preds == True))/sum(y==0)\n"
      ],
      "id": "KBIyf2i8x40k"
    },
    {
      "cell_type": "code",
      "execution_count": null,
      "metadata": {
        "colab": {
          "base_uri": "https://localhost:8080/"
        },
        "id": "g_9uVALwHMfm",
        "outputId": "a62582bd-bf3e-47fa-8611-f009e67bc2ae"
      },
      "outputs": [
        {
          "name": "stdout",
          "output_type": "stream",
          "text": [
            "train F1 at optimal t: (0.818613485280152, 0.33)\n",
            "test F1 at optimal t: (0.6201022146507666, 0.21)\n"
          ]
        }
      ],
      "source": [
        "# calc probabilities\n",
        "prob_train = prob(model, X_train_np)\n",
        "prob_test = prob(model, X_test_np)\n",
        "\n",
        "# train f1\n",
        "print('train F1 at optimal t:', optimal(prob_train, y_train, f1_score)[:2])\n",
        "\n",
        "# test f1\n",
        "f1_opt, f1_opt_t, _ = optimal(prob_test, y_test, f1_score)\n",
        "print('test F1 at optimal t:', (f1_opt, f1_opt_t))"
      ],
      "id": "g_9uVALwHMfm"
    },
    {
      "cell_type": "code",
      "execution_count": null,
      "metadata": {
        "colab": {
          "base_uri": "https://localhost:8080/"
        },
        "id": "DIsbnKWuiRp-",
        "outputId": "de1d021c-4e95-426d-a7e5-26297517d34c"
      },
      "outputs": [
        {
          "name": "stdout",
          "output_type": "stream",
          "text": [
            "test_metrics: t=opt\n",
            "\n",
            "F1: 0.6201022146507666\n",
            "Precision: 0.5634674922600619\n",
            "Recall: 0.6893939393939394\n",
            "Conf Matrix: [[21498   282]\n",
            " [  164   364]]\n"
          ]
        }
      ],
      "source": [
        "print('test_metrics: t=opt\\n')\n",
        "metrics(y_test, prob_test > f1_opt_t)"
      ],
      "id": "DIsbnKWuiRp-"
    },
    {
      "cell_type": "code",
      "execution_count": null,
      "metadata": {
        "colab": {
          "base_uri": "https://localhost:8080/"
        },
        "id": "vMciCb7hrrd0",
        "outputId": "d523391f-4b18-4bfd-bc0b-3f032531384b"
      },
      "outputs": [
        {
          "name": "stdout",
          "output_type": "stream",
          "text": [
            "test metrics: t=0.5\n",
            "\n",
            "F1: 0.539109506618532\n",
            "Precision: 0.7392739273927392\n",
            "Recall: 0.42424242424242425\n",
            "Conf Matrix: [[21701    79]\n",
            " [  304   224]]\n"
          ]
        }
      ],
      "source": [
        "print('test metrics: t=0.5\\n')\n",
        "metrics(y_test, prob_test > 0.5)"
      ],
      "id": "vMciCb7hrrd0"
    },
    {
      "cell_type": "markdown",
      "metadata": {
        "id": "vSfTEtEWyFpD"
      },
      "source": [
        "# Feature importances"
      ],
      "id": "vSfTEtEWyFpD"
    },
    {
      "cell_type": "code",
      "execution_count": null,
      "metadata": {
        "colab": {
          "base_uri": "https://localhost:8080/"
        },
        "id": "lFSUp7dcSeRV",
        "outputId": "2b444387-d8b6-4773-9499-0d463b97b105"
      },
      "outputs": [
        {
          "output_type": "stream",
          "name": "stdout",
          "text": [
            "Index(['COUNT_SWIPE_PAST_30DAY', 'FLAG_INTERNATIONAL',\n",
            "       'MEAN_INTERNATIONAL_PAST_7DAY', 'MEAN_WEEKEND_PAST_30DAY',\n",
            "       'STD_SWIPE_PAST_30DAY', 'SUM_MANUAL_ENTRY_PAST_30DAY',\n",
            "       'SUM_SWIPE_PAST_7DAY', 'MEAN_HIGH_AMT_PAST_7DAY',\n",
            "       'SUM_INTERNATIONAL_PAST_7DAY', 'COUNT_SWIPE_PAST_7DAY',\n",
            "       'COUNT_MANUAL_ENTRY_PAST_30DAY', 'MAX_MANUAL_ENTRY_PAST_30DAY',\n",
            "       'COUNT_WEEKEND_PAST_7DAY', 'SUM_HIGH_AMT_PAST_30DAY',\n",
            "       'COUNT_PHONE_ORDER_PAST_30DAY'],\n",
            "      dtype='object')\n",
            "[0.062 0.036 0.031 0.019 0.018 0.017 0.015 0.015 0.014 0.013 0.013 0.012\n",
            " 0.011 0.011 0.01 ]\n"
          ]
        }
      ],
      "source": [
        "importances = model.feature_importances_\n",
        "top_15 = np.argsort(-importances)[:15]\n",
        "print(X.columns[top_15])\n",
        "print(importances[top_15])"
      ],
      "id": "lFSUp7dcSeRV"
    },
    {
      "cell_type": "code",
      "execution_count": null,
      "metadata": {
        "colab": {
          "base_uri": "https://localhost:8080/",
          "height": 409
        },
        "id": "Qt-bHnQo9mQU",
        "outputId": "b303bfa7-a6b6-4985-b6e4-4ddf64999013"
      },
      "outputs": [
        {
          "output_type": "display_data",
          "data": {
            "text/plain": [
              "<Figure size 576x432 with 1 Axes>"
            ],
            "image/png": "[encoded data removed]"
          },
          "metadata": {
            "needs_background": "light"
          }
        }
      ],
      "source": [
        "plt.figure(figsize=(8,6))\n",
        "plt.barh(X.columns[top_15][::-1], importances[top_15][::-1])\n",
        "plt.title('XGBoost Feature Importance', fontsize=14)\n",
        "plt.xlabel('Importance Score',fontsize=14)\n",
        "plt.ylabel('Feature',fontsize=14)\n",
        "plt.show()"
      ],
      "id": "Qt-bHnQo9mQU"
    },
    {
      "cell_type": "markdown",
      "metadata": {
        "id": "BTk-jojFyefX"
      },
      "source": [
        "# Revenue"
      ],
      "id": "BTk-jojFyefX"
    },
    {
      "cell_type": "code",
      "execution_count": null,
      "metadata": {
        "id": "53-bqoFLyhgV"
      },
      "outputs": [],
      "source": [
        "def revenue(X, y, decision, tn_rev_rate = 0.02, fn_exp_rate = 1):\n",
        "    rev = X[np.logical_and(y == 0, decision == False)]['AMOUNT'].sum()* \\\n",
        "          tn_rev_rate\n",
        "    exp = X[np.logical_and(y == 1, decision == False)]['AMOUNT'].sum()* \\\n",
        "          fn_exp_rate\n",
        "    return rev - exp"
      ],
      "id": "53-bqoFLyhgV"
    },
    {
      "cell_type": "code",
      "execution_count": null,
      "metadata": {
        "colab": {
          "base_uri": "https://localhost:8080/"
        },
        "id": "eLNKAJa96CIc",
        "outputId": "41900b6a-ae60-45b8-f4f9-4949e2f72e79"
      },
      "outputs": [
        {
          "name": "stdout",
          "output_type": "stream",
          "text": [
            "f1_opt_t: 0.21 , revenue at f1_opt_t: 18507.1074\n"
          ]
        }
      ],
      "source": [
        "print('f1_opt_t:', f1_opt_t, ', revenue at f1_opt_t:', revenue(X_test, y_test, prob_test>f1_opt_t))"
      ],
      "id": "eLNKAJa96CIc"
    },
    {
      "cell_type": "code",
      "execution_count": null,
      "metadata": {
        "colab": {
          "base_uri": "https://localhost:8080/"
        },
        "id": "5l6NH0et5lu7",
        "outputId": "eacc48a9-9635-4260-ec9d-8c2f9fc4ecda"
      },
      "outputs": [
        {
          "name": "stdout",
          "output_type": "stream",
          "text": [
            "rev_opt_t: 0.03 , revenue at rev_opt_t: 29046.602199999998\n"
          ]
        }
      ],
      "source": [
        "rev_opt, rev_opt_t, rev_lst = optimal(prob_test, y_test, partial(revenue, X_test))\n",
        "print('rev_opt_t:', rev_opt_t, ', revenue at rev_opt_t:', rev_opt)"
      ],
      "id": "5l6NH0et5lu7"
    },
    {
      "cell_type": "code",
      "execution_count": null,
      "metadata": {
        "colab": {
          "base_uri": "https://localhost:8080/"
        },
        "id": "wZffKTxalGhu",
        "outputId": "122cf1e5-d865-4e21-a34e-5145f36d7fd6"
      },
      "outputs": [
        {
          "name": "stdout",
          "output_type": "stream",
          "text": [
            "test_metrics: t=rev_opt_t\n",
            "\n",
            "F1: 0.385502471169687\n",
            "Precision: 0.2463157894736842\n",
            "Recall: 0.8863636363636364\n",
            "Conf Matrix: [[20348  1432]\n",
            " [   60   468]]\n"
          ]
        }
      ],
      "source": [
        "print('test_metrics: t=rev_opt_t\\n')\n",
        "metrics(y_test, prob_test >= rev_opt_t)"
      ],
      "id": "wZffKTxalGhu"
    },
    {
      "cell_type": "markdown",
      "metadata": {
        "id": "w0SRSRNA7Fwo"
      },
      "source": [
        "### Plotting Revenue and F1 as a function of threshold"
      ],
      "id": "w0SRSRNA7Fwo"
    },
    {
      "cell_type": "code",
      "execution_count": null,
      "metadata": {
        "id": "oxaB_eKS5TqM"
      },
      "outputs": [],
      "source": [
        "_,_ ,f1_lst = optimal(prob_test, y_test, f1_score)"
      ],
      "id": "oxaB_eKS5TqM"
    },
    {
      "cell_type": "code",
      "execution_count": null,
      "metadata": {
        "colab": {
          "base_uri": "https://localhost:8080/",
          "height": 353
        },
        "id": "fpjQpnCt9Zdq",
        "outputId": "9182b534-05f7-4691-898f-0984224d111a"
      },
      "outputs": [
        {
          "data": {
            "image/png": "[encoded data removed]",
            "text/plain": [
              "<Figure size 504x360 with 2 Axes>"
            ]
          },
          "metadata": {},
          "output_type": "display_data"
        }
      ],
      "source": [
        "fig,ax = plt.subplots(figsize=(7,5))\n",
        "threshold = np.linspace(0,0.99, 100)\n",
        "ax.plot(threshold, rev_lst, color=\"red\")\n",
        "ax.set_xlabel(\"Decline Threshold\", fontsize = 12)\n",
        "ax.set_ylabel(\"Revenue-minus-Fraud\", color=\"red\", fontsize=14)\n",
        "ax2=ax.twinx()\n",
        "ax2.plot(threshold, f1_lst, color=\"blue\")\n",
        "ax2.set_ylabel(\"F1 score\",color=\"blue\",fontsize=14)\n",
        "plt.axvline(0.21, ls='--', color = 'blue')\n",
        "plt.axvline(0.03, ls='--', color = 'red')\n",
        "plt.title('Decline Threshold vs. F1 score and Revenue-minus-Fraud')\n",
        "plt.show()"
      ],
      "id": "fpjQpnCt9Zdq"
    },
    {
      "cell_type": "markdown",
      "metadata": {
        "id": "q7o1yUdYDqw_"
      },
      "source": [
        "# Revenue-aware model"
      ],
      "id": "q7o1yUdYDqw_"
    },
    {
      "cell_type": "code",
      "execution_count": null,
      "metadata": {
        "id": "E11QZ33WDW-O"
      },
      "outputs": [],
      "source": [
        "rev_aware_model = train_xgboost(\n",
        "    (X_train_np, y_train), \n",
        "    (X_test_np, y_test), \n",
        "    learning_rate=0.1,\n",
        "    max_depth=15,\n",
        "    min_child_weight=15,\n",
        "    gamma=1.0,\n",
        "    pos_weight = 50\n",
        ")"
      ],
      "id": "E11QZ33WDW-O"
    },
    {
      "cell_type": "code",
      "execution_count": null,
      "metadata": {
        "colab": {
          "base_uri": "https://localhost:8080/"
        },
        "id": "DWwEL0lVEaOM",
        "outputId": "83458a65-a161-4bfd-9400-65916d648078"
      },
      "outputs": [
        {
          "name": "stdout",
          "output_type": "stream",
          "text": [
            "rev_opt_t: 0.04 , revenue at rev_opt_t: 30991.973200000004\n"
          ]
        }
      ],
      "source": [
        "# calc probabilities\n",
        "prob_test_rev_aware = prob(rev_aware_model, X_test_np)\n",
        "\n",
        "rev_opt, rev_opt_t, rev_lst = optimal(prob_test_rev_aware, y_test, partial(revenue, X_test))\n",
        "print('rev_opt_t:', rev_opt_t, ', revenue at rev_opt_t:', rev_opt)"
      ],
      "id": "DWwEL0lVEaOM"
    },
    {
      "cell_type": "code",
      "execution_count": null,
      "metadata": {
        "colab": {
          "base_uri": "https://localhost:8080/"
        },
        "id": "T2P8dEarEe4n",
        "outputId": "071f00e4-6e37-4285-fa93-5556a7eae6b1"
      },
      "outputs": [
        {
          "name": "stdout",
          "output_type": "stream",
          "text": [
            "test_metrics: t=rev_opt_t\n",
            "\n",
            "F1: 0.3369527145359019\n",
            "Precision: 0.20670391061452514\n",
            "Recall: 0.9109848484848485\n",
            "Conf Matrix: [[19934  1846]\n",
            " [   47   481]]\n"
          ]
        }
      ],
      "source": [
        "print('test_metrics: t=rev_opt_t\\n')\n",
        "metrics(y_test, prob_test_rev_aware >= rev_opt_t)"
      ],
      "id": "T2P8dEarEe4n"
    },
    {
      "cell_type": "markdown",
      "metadata": {
        "id": "TA2StqHQm1K-"
      },
      "source": [
        "# Use conservative model on large transactions"
      ],
      "id": "TA2StqHQm1K-"
    },
    {
      "cell_type": "code",
      "execution_count": null,
      "metadata": {
        "id": "tTfhEEnlm03M"
      },
      "outputs": [],
      "source": [
        "def high_value_filter(X, conservative_pred, risky_pred, val=150):\n",
        "    pred = risky_pred.copy()\n",
        "    high_val_idx = X['AMOUNT'] >= val\n",
        "    pred[high_val_idx] = conservative_pred[high_val_idx]\n",
        "    return pred"
      ],
      "id": "tTfhEEnlm03M"
    },
    {
      "cell_type": "code",
      "execution_count": null,
      "metadata": {
        "id": "LKEgOPKQnkOl"
      },
      "outputs": [],
      "source": [
        "mix_pred = high_value_filter(\n",
        "    X_test, \n",
        "    prob_test >= rev_opt_t, \n",
        "    prob_test >= f1_opt_t\n",
        ")"
      ],
      "id": "LKEgOPKQnkOl"
    },
    {
      "cell_type": "code",
      "execution_count": null,
      "metadata": {
        "colab": {
          "base_uri": "https://localhost:8080/"
        },
        "id": "KCscG-7on6XQ",
        "outputId": "f68235c3-0d65-4800-edfb-f59804d6da95"
      },
      "outputs": [
        {
          "name": "stdout",
          "output_type": "stream",
          "text": [
            "F1: 0.5656716417910448\n",
            "Precision: 0.4667487684729064\n",
            "Recall: 0.7178030303030303\n",
            "Conf Matrix: [[21347   433]\n",
            " [  149   379]]\n"
          ]
        }
      ],
      "source": [
        "metrics(y_test, mix_pred)"
      ],
      "id": "KCscG-7on6XQ"
    },
    {
      "cell_type": "code",
      "execution_count": null,
      "metadata": {
        "colab": {
          "base_uri": "https://localhost:8080/"
        },
        "id": "cb6UKKtBoXct",
        "outputId": "5594ac3e-945b-47a4-e7b0-3f13712472fc"
      },
      "outputs": [
        {
          "data": {
            "text/plain": [
              "26982.066"
            ]
          },
          "execution_count": 40,
          "metadata": {},
          "output_type": "execute_result"
        }
      ],
      "source": [
        "revenue(X_test, y_test, mix_pred)"
      ],
      "id": "cb6UKKtBoXct"
    },
    {
      "cell_type": "markdown",
      "metadata": {
        "id": "thq7bhwFvLhk"
      },
      "source": [
        "# 2FA Experiment"
      ],
      "id": "thq7bhwFvLhk"
    },
    {
      "cell_type": "code",
      "execution_count": null,
      "metadata": {
        "id": "2v2wHJ1fvy9F"
      },
      "outputs": [],
      "source": [
        "over_150 = (X_test['AMOUNT']>=150).to_numpy()\n",
        "num_over_150 = sum(over_150)\n",
        "\n",
        "# keep track of revenue and FP rate for each setting of TFA rate\n",
        "tfa_rev = [] \n",
        "tfa_fpr = []\n",
        "\n",
        "for i in range(0, 11):\n",
        "    tf_rate = i/10\n",
        "    to_flip = math.ceil(tf_rate * num_over_150)\n",
        "    tf_y_pred = mix_pred.copy()\n",
        "\n",
        "    if to_flip == 0:\n",
        "        pass\n",
        "    else:\n",
        "        where = np.where(over_150)[0][:to_flip]\n",
        "        for j in where:\n",
        "            tf_y_pred[j] = y_test.iloc[j]\n",
        "\n",
        "    tfa_rev.append(revenue(X_test, y_test, tf_y_pred))\n",
        "    tfa_fpr.append(fpr(y_test, tf_y_pred))"
      ],
      "id": "2v2wHJ1fvy9F"
    },
    {
      "cell_type": "code",
      "execution_count": null,
      "metadata": {
        "colab": {
          "base_uri": "https://localhost:8080/",
          "height": 357
        },
        "id": "UQNyFs0r4c2w",
        "outputId": "47f92567-7692-4b3c-9599-61888ce88913"
      },
      "outputs": [
        {
          "data": {
            "image/png": "[encoded data removed]",
            "text/plain": [
              "<Figure size 504x360 with 2 Axes>"
            ]
          },
          "metadata": {},
          "output_type": "display_data"
        }
      ],
      "source": [
        "tfa_percent = np.arange(11)/10\n",
        "fig,ax = plt.subplots(figsize=(7,5))\n",
        "ax.plot(tfa_percent, tfa_rev, color=\"red\", marker='.')\n",
        "ax.set_xlabel(\"Proportion of Trans. $\\geq \\$150$ completed with 2FA\", fontsize = 12)\n",
        "ax.set_ylabel(\"Revenue-minus-Fraud ($)\", color=\"red\", fontsize=14)\n",
        "ax2=ax.twinx()\n",
        "ax2.plot(tfa_percent, [x*100 for x in tfa_fpr], color=\"blue\", marker='.')\n",
        "ax2.set_ylabel(\"Legit Trans. Declined Rate (%)\",color=\"blue\",fontsize=14)\n",
        "plt.title('Effect of 2FA on Revenue and False Positive Rate')\n",
        "plt.show()\n"
      ],
      "id": "UQNyFs0r4c2w"
    },
    {
      "cell_type": "markdown",
      "source": [
        "# Decline rate for $<\\$150 $ and  $\\geq\\$150$"
      ],
      "metadata": {
        "id": "ZZMmnAGyCwnZ"
      },
      "id": "ZZMmnAGyCwnZ"
    },
    {
      "cell_type": "code",
      "source": [
        "mix_pred[over_150].sum()"
      ],
      "metadata": {
        "colab": {
          "base_uri": "https://localhost:8080/"
        },
        "id": "J6q-3A2YCvFP",
        "outputId": "8b38c987-6107-4119-b4ef-ffa29d9c53c1"
      },
      "id": "J6q-3A2YCvFP",
      "execution_count": null,
      "outputs": [
        {
          "output_type": "execute_result",
          "data": {
            "text/plain": [
              "349"
            ]
          },
          "metadata": {},
          "execution_count": 67
        }
      ]
    },
    {
      "cell_type": "code",
      "source": [
        "y_test[over_150].sum()/len(y_test[over_150])"
      ],
      "metadata": {
        "colab": {
          "base_uri": "https://localhost:8080/"
        },
        "id": "iKMLfQF_EauK",
        "outputId": "82d0ec7f-c716-4299-c434-fef62648456d"
      },
      "id": "iKMLfQF_EauK",
      "execution_count": null,
      "outputs": [
        {
          "output_type": "execute_result",
          "data": {
            "text/plain": [
              "0.05464698843238931"
            ]
          },
          "metadata": {},
          "execution_count": 71
        }
      ]
    },
    {
      "cell_type": "code",
      "source": [
        "mix_pred[~over_150].sum()/len(mix_pred[~over_150])"
      ],
      "metadata": {
        "colab": {
          "base_uri": "https://localhost:8080/"
        },
        "id": "JNBO8FjKDjhx",
        "outputId": "2449e95b-4679-4c75-9fdc-a4d46eff876d"
      },
      "id": "JNBO8FjKDjhx",
      "execution_count": null,
      "outputs": [
        {
          "output_type": "execute_result",
          "data": {
            "text/plain": [
              "0.023382657441543355"
            ]
          },
          "metadata": {},
          "execution_count": 66
        }
      ]
    },
    {
      "cell_type": "markdown",
      "source": [
        "# Correlation plot for features with top 10 correlation magnitudes with FRAUD_FLAG "
      ],
      "metadata": {
        "id": "M58zMC_B8FNm"
      },
      "id": "M58zMC_B8FNm"
    },
    {
      "cell_type": "code",
      "source": [
        "df = pd.read_csv('train_ScotiaDSD.csv')\n",
        "corr = df.corr()\n",
        "top10_features = abs(corr['FRAUD_FLAG']).sort_values()\n",
        "corr_cols = top10_features[(len(top10_features)-11):].index.values.tolist() # get the features names with highest correlation\n",
        "\n",
        "df_corr = df[corr_cols] # get data only for the selected correlation columns\n",
        "\n",
        "plt.figure(figsize = (7,7))\n",
        "plt.title('Credit Card Transactions features correlation plot (Pearson)')\n",
        "corr = df_corr.corr()\n",
        "sns.heatmap(corr,xticklabels=corr.columns,yticklabels=corr.columns,linewidths=.1,cmap=\"Reds\")\n",
        "plt.show()"
      ],
      "metadata": {
        "colab": {
          "base_uri": "https://localhost:8080/",
          "height": 617
        },
        "id": "fp74qmw2760f",
        "outputId": "91e6a0d5-c941-4ccc-8e36-24379c7ba257"
      },
      "execution_count": null,
      "outputs": [
        {
          "output_type": "display_data",
          "data": {
            "text/plain": [
              "<Figure size 504x504 with 2 Axes>"
            ],
            "image/png": "[encoded data removed]"
          },
          "metadata": {
            "needs_background": "light"
          }
        }
      ],
      "id": "fp74qmw2760f"
    },
    {
      "cell_type": "markdown",
      "source": [
        "# Number of Fraud v/s Non-Fraud transactions made over the hours"
      ],
      "metadata": {
        "id": "89dO0r8AB2_J"
      },
      "id": "89dO0r8AB2_J"
    },
    {
      "cell_type": "code",
      "source": [
        "# get only HOUR from time and plot it \n",
        "def extract_hours(x):\n",
        "  return x.split(':')[0]\n",
        "\n",
        "df['EVENT_TIME'] = df['EVENT_TIME'].apply(extract_hours)\n",
        "\n",
        "# Fraud\n",
        "fraud_hour_grouped = df[df['FRAUD_FLAG']==1.0].groupby('EVENT_TIME').size().reset_index()\n",
        "fraud_hour_grouped['EVENT_TIME'] = fraud_hour_grouped['EVENT_TIME'].astype(int)\n",
        "fraud_hour_grouped[0]=(fraud_hour_grouped[0]-fraud_hour_grouped[0].min())/(fraud_hour_grouped[0].max()-fraud_hour_grouped[0].min())\n",
        "fraud = fraud_hour_grouped.sort_values(by='EVENT_TIME')\n",
        "\n",
        "# Non-Fraud\n",
        "NotFraud_hour_grouped = df[df['FRAUD_FLAG']!=1.0].groupby('EVENT_TIME').size().reset_index()\n",
        "NotFraud_hour_grouped['EVENT_TIME'] = NotFraud_hour_grouped['EVENT_TIME'].astype(int)\n",
        "NotFraud_hour_grouped[0]=(NotFraud_hour_grouped[0]-NotFraud_hour_grouped[0].min())/(NotFraud_hour_grouped[0].max()-NotFraud_hour_grouped[0].min())\n",
        "notFraud = NotFraud_hour_grouped.sort_values(by='EVENT_TIME')\n",
        "\n",
        "plt.plot(fraud['EVENT_TIME'],fraud[0], color=\"blue\")\n",
        "plt.plot(notFraud['EVENT_TIME'],notFraud[0], color=\"orange\")\n",
        "plt.legend([\"Fraud\",\"Not Fraud\"])\n",
        "plt.title(\"Number of Non-Fraudulent transactions made per hour\")\n",
        "plt.xlabel(\"Hour\")\n",
        "plt.xticks(notFraud['EVENT_TIME'])\n",
        "plt.ylabel(\"No. of transactions\")"
      ],
      "metadata": {
        "colab": {
          "base_uri": "https://localhost:8080/",
          "height": 312
        },
        "id": "VaaiNyaJjc6u",
        "outputId": "f71af665-a988-44ae-f58c-615e3670435a"
      },
      "execution_count": null,
      "outputs": [
        {
          "output_type": "execute_result",
          "data": {
            "text/plain": [
              "Text(0, 0.5, 'No. of transactions')"
            ]
          },
          "metadata": {},
          "execution_count": 85
        },
        {
          "output_type": "display_data",
          "data": {
            "text/plain": [
              "<Figure size 432x288 with 1 Axes>"
            ],
            "image/png": "[encoded data removed]"
          },
          "metadata": {
            "needs_background": "light"
          }
        }
      ],
      "id": "VaaiNyaJjc6u"
    },
    {
      "cell_type": "markdown",
      "source": [
        "# Distribution of Amount for Fraud v/s Not Fraud"
      ],
      "metadata": {
        "id": "8i1nGUcIUEeH"
      },
      "id": "8i1nGUcIUEeH"
    },
    {
      "cell_type": "code",
      "source": [
        "# Amount for Fraud v/s Not Fraud Transactions \n",
        "\n",
        "bins = 100\n",
        "plt.title(\"Amount for Fraud v/s Not Fraud\")\n",
        "plt.hist(df.AMOUNT[df.FRAUD_FLAG == 0], bins = bins, color='blue')\n",
        "plt.hist(df.AMOUNT[df.FRAUD_FLAG == 1], bins = bins,color = 'orange')\n",
        "\n",
        "plt.legend([\"Not Fraud\",\"Fraud\"])\n",
        "plt.xlabel('Amount')\n",
        "plt.yscale(\"log\")\n",
        "plt.ylabel('Number of the transactions')\n",
        "plt.show()"
      ],
      "metadata": {
        "colab": {
          "base_uri": "https://localhost:8080/",
          "height": 295
        },
        "id": "hjppUJMH2JUl",
        "outputId": "5cec0ff9-c55d-4fba-d8b3-a56e2d05da50"
      },
      "execution_count": null,
      "outputs": [
        {
          "output_type": "display_data",
          "data": {
            "text/plain": [
              "<Figure size 432x288 with 1 Axes>"
            ],
            "image/png": "[encoded data removed]"
          },
          "metadata": {
            "needs_background": "light"
          }
        }
      ],
      "id": "hjppUJMH2JUl"
    }
  ],
  "metadata": {
    "colab": {
      "provenance": []
    },
    "kernelspec": {
      "display_name": "Python 3",
      "language": "python",
      "name": "python3"
    },
    "language_info": {
      "codemirror_mode": {
        "name": "ipython",
        "version": 3
      },
      "file_extension": ".py",
      "mimetype": "text/x-python",
      "name": "python",
      "nbconvert_exporter": "python",
      "pygments_lexer": "ipython3",
      "version": "3.9.4"
    }
  },
  "nbformat": 4,
  "nbformat_minor": 5
}